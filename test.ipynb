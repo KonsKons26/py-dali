{
 "cells": [
  {
   "cell_type": "code",
   "execution_count": 1,
   "id": "38c93e79",
   "metadata": {},
   "outputs": [
    {
     "name": "stdout",
     "output_type": "stream",
     "text": [
      "/home/cotsios/dsit/2nd-semester/algos-in-mol-bio\n"
     ]
    }
   ],
   "source": [
    "import sys\n",
    "import os\n",
    "\n",
    "\n",
    "sys.path.append(os.path.abspath(os.path.join(os.getcwd(), \"..\")))\n",
    "print(sys.path[-1])"
   ]
  },
  {
   "cell_type": "code",
   "execution_count": 2,
   "id": "7a8fe995",
   "metadata": {},
   "outputs": [],
   "source": [
    "from src.utils import quick_load"
   ]
  },
  {
   "cell_type": "code",
   "execution_count": 6,
   "id": "692de471",
   "metadata": {},
   "outputs": [
    {
     "name": "stdout",
     "output_type": "stream",
     "text": [
      "0\n",
      "3\n",
      "72\n",
      "1\n",
      "10\n",
      "4\n",
      "1\n",
      "2\n",
      "6\n",
      "0\n",
      "3\n",
      "48\n",
      "2\n",
      "5\n",
      "7\n",
      "2\n",
      "3\n",
      "2\n",
      "2\n",
      "0\n",
      "4\n",
      "150\n",
      "23\n",
      "3\n",
      "23\n",
      "2\n",
      "150\n",
      "84\n",
      "0\n",
      "1\n",
      "16\n",
      "6\n",
      "0\n",
      "4\n",
      "122\n",
      "0\n",
      "1\n",
      "29\n",
      "0\n",
      "26\n",
      "2\n",
      "8\n",
      "3\n",
      "2\n",
      "150\n",
      "2\n",
      "2\n",
      "5\n",
      "5\n",
      "3\n",
      "101\n",
      "3\n",
      "5\n",
      "3\n",
      "7\n",
      "1\n",
      "37\n",
      "16\n",
      "23\n",
      "39\n",
      "1\n",
      "7\n",
      "2\n",
      "14\n",
      "14\n",
      "1\n",
      "14\n",
      "9\n",
      "1\n",
      "31\n",
      "0\n",
      "2\n",
      "1\n",
      "2\n",
      "36\n",
      "7\n",
      "2\n",
      "4\n",
      "6\n",
      "12\n",
      "1\n",
      "4\n",
      "5\n",
      "38\n",
      "32\n",
      "6\n",
      "4\n",
      "150\n",
      "150\n",
      "12\n",
      "0\n",
      "1\n",
      "76\n",
      "20\n",
      "11\n",
      "150\n",
      "24\n",
      "0\n",
      "3\n",
      "3\n",
      "150\n",
      "60\n",
      "16\n",
      "3\n",
      "2\n",
      "118\n",
      "0\n",
      "1\n",
      "1\n",
      "4\n",
      "17\n"
     ]
    }
   ],
   "source": [
    "for file in os.listdir(\"/home/cotsios/dsit/2nd-semester/algos-in-mol-bio/py-dali/data_reduced/d1ijqa2/references\"):\n",
    "    file = os.path.join(\"/home/cotsios/dsit/2nd-semester/algos-in-mol-bio/py-dali/data_reduced/d1ijqa2/references\", file)\n",
    "    cp = quick_load(file)\n",
    "    print(len(cp))"
   ]
  },
  {
   "cell_type": "code",
   "execution_count": null,
   "id": "608a5ddf",
   "metadata": {},
   "outputs": [],
   "source": []
  }
 ],
 "metadata": {
  "kernelspec": {
   "display_name": ".venv",
   "language": "python",
   "name": "python3"
  },
  "language_info": {
   "codemirror_mode": {
    "name": "ipython",
    "version": 3
   },
   "file_extension": ".py",
   "mimetype": "text/x-python",
   "name": "python",
   "nbconvert_exporter": "python",
   "pygments_lexer": "ipython3",
   "version": "3.12.3"
  }
 },
 "nbformat": 4,
 "nbformat_minor": 5
}
