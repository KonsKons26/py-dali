{
 "cells": [
  {
   "cell_type": "code",
   "execution_count": 1,
   "id": "a84718d1",
   "metadata": {},
   "outputs": [
    {
     "name": "stdout",
     "output_type": "stream",
     "text": [
      "/home/cotsios/dsit/2nd-semester/algos-in-mol-bio/py-dali\n"
     ]
    }
   ],
   "source": [
    "import sys\n",
    "import os\n",
    "\n",
    "\n",
    "sys.path.append(os.path.abspath(os.path.join(os.getcwd(), \"..\")))\n",
    "print(sys.path[-1])"
   ]
  },
  {
   "cell_type": "code",
   "execution_count": 2,
   "id": "db06dea8",
   "metadata": {},
   "outputs": [],
   "source": [
    "from Bio.PDB import PDBParser, Superimposer\n",
    "from Bio.SVDSuperimposer import SVDSuperimposer\n",
    "import numpy as np\n",
    "from src.utils import get_coords, calculate_best_rmsd"
   ]
  },
  {
   "cell_type": "code",
   "execution_count": 3,
   "id": "75e2cf23",
   "metadata": {},
   "outputs": [],
   "source": [
    "q = \"/home/cotsios/dsit/2nd-semester/algos-in-mol-bio/py-dali/data/d1fi6a_/d1fi6a_.pdb\"\n",
    "r = \"/home/cotsios/dsit/2nd-semester/algos-in-mol-bio/py-dali/data/d1fi6a_/references/d1s6ia_.pdb\""
   ]
  },
  {
   "cell_type": "code",
   "execution_count": 4,
   "id": "a6d48b7a",
   "metadata": {},
   "outputs": [
    {
     "name": "stdout",
     "output_type": "stream",
     "text": [
      "RMSD: 7.011 Å over 93 atoms\n"
     ]
    }
   ],
   "source": [
    "q = get_coords(q, \"Q\")\n",
    "r = get_coords(r, \"R\")\n",
    "\n",
    "rmsd, n = calculate_best_rmsd(q, r)\n",
    "print(f\"RMSD: {rmsd:.3f} Å over {n} atoms\")\n"
   ]
  }
 ],
 "metadata": {
  "kernelspec": {
   "display_name": ".venv",
   "language": "python",
   "name": "python3"
  },
  "language_info": {
   "codemirror_mode": {
    "name": "ipython",
    "version": 3
   },
   "file_extension": ".py",
   "mimetype": "text/x-python",
   "name": "python",
   "nbconvert_exporter": "python",
   "pygments_lexer": "ipython3",
   "version": "3.12.3"
  }
 },
 "nbformat": 4,
 "nbformat_minor": 5
}
