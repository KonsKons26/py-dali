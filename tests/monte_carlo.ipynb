{
 "cells": [
  {
   "cell_type": "code",
   "execution_count": 1,
   "id": "a904d952",
   "metadata": {},
   "outputs": [
    {
     "name": "stdout",
     "output_type": "stream",
     "text": [
      "/home/cotsios/dsit/2nd-semester/algos-in-mol-bio/py-dali\n"
     ]
    }
   ],
   "source": [
    "import sys\n",
    "import os\n",
    "\n",
    "\n",
    "sys.path.append(os.path.abspath(os.path.join(os.getcwd(), \"..\")))\n",
    "print(sys.path[-1])"
   ]
  },
  {
   "cell_type": "code",
   "execution_count": 4,
   "id": "3433a194",
   "metadata": {},
   "outputs": [],
   "source": [
    "from src.utils import quick_load\n",
    "from src.monte_carlo_align import ContactPattern, ProteinAlignment"
   ]
  },
  {
   "cell_type": "code",
   "execution_count": 2,
   "id": "46fb5e17",
   "metadata": {},
   "outputs": [
    {
     "name": "stdout",
     "output_type": "stream",
     "text": [
      "BASE_DIR: /home/cotsios/dsit/2nd-semester/algos-in-mol-bio/py-dali\n",
      "REDUCED_DIRS: /home/cotsios/dsit/2nd-semester/algos-in-mol-bio/py-dali/reduced\n"
     ]
    }
   ],
   "source": [
    "BASE_DIR = os.path.dirname(os.getcwd())\n",
    "REDUCED_DIRS = os.path.join(BASE_DIR, \"reduced\")\n",
    "\n",
    "print(\"BASE_DIR:\", BASE_DIR)\n",
    "print(\"REDUCED_DIRS:\", REDUCED_DIRS)"
   ]
  },
  {
   "cell_type": "code",
   "execution_count": 5,
   "id": "b511daaa",
   "metadata": {},
   "outputs": [],
   "source": [
    "sample1 = quick_load(\n",
    "    os.path.join(REDUCED_DIRS, \"1euv_A.pkl.gz\")\n",
    ")\n",
    "\n",
    "sample2 = quick_load(\n",
    "    os.path.join(REDUCED_DIRS, \"1tgz_A.pkl.gz\")\n",
    ")"
   ]
  },
  {
   "cell_type": "code",
   "execution_count": null,
   "id": "b62fd8d8",
   "metadata": {},
   "outputs": [],
   "source": []
  }
 ],
 "metadata": {
  "kernelspec": {
   "display_name": ".venv",
   "language": "python",
   "name": "python3"
  },
  "language_info": {
   "codemirror_mode": {
    "name": "ipython",
    "version": 3
   },
   "file_extension": ".py",
   "mimetype": "text/x-python",
   "name": "python",
   "nbconvert_exporter": "python",
   "pygments_lexer": "ipython3",
   "version": "3.12.3"
  }
 },
 "nbformat": 4,
 "nbformat_minor": 5
}
