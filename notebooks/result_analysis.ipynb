{
 "cells": [
  {
   "cell_type": "code",
   "execution_count": 1,
   "id": "b23350e5",
   "metadata": {},
   "outputs": [
    {
     "name": "stdout",
     "output_type": "stream",
     "text": [
      "/home/cotsios/dsit/2nd-semester/algos-in-mol-bio/py-dali\n"
     ]
    }
   ],
   "source": [
    "import sys\n",
    "import os\n",
    "\n",
    "\n",
    "sys.path.append(os.path.abspath(os.path.join(os.getcwd(), \"..\")))\n",
    "print(sys.path[-1])"
   ]
  },
  {
   "cell_type": "code",
   "execution_count": 3,
   "id": "f28dded7",
   "metadata": {},
   "outputs": [
    {
     "name": "stdout",
     "output_type": "stream",
     "text": [
      "BASE_DIR            /home/cotsios/dsit/2nd-semester/algos-in-mol-bio/py-dali\n",
      "RESULTS_DIR         /home/cotsios/dsit/2nd-semester/algos-in-mol-bio/py-dali/results\n",
      "IMGS_DIR            /home/cotsios/dsit/2nd-semester/algos-in-mol-bio/py-dali/imgs\n"
     ]
    }
   ],
   "source": [
    "BASE_DIR = os.path.dirname(os.getcwd())\n",
    "RESULTS_DIR = os.path.join(BASE_DIR, \"results\")\n",
    "IMGS_DIR = os.path.join(BASE_DIR, \"imgs\")\n",
    "\n",
    "print(f\"{'BASE_DIR':<20}{BASE_DIR}\")\n",
    "print(f\"{'RESULTS_DIR':<20}{RESULTS_DIR}\")\n",
    "print(f\"{'IMGS_DIR':<20}{IMGS_DIR}\")"
   ]
  },
  {
   "cell_type": "code",
   "execution_count": 4,
   "id": "d9b9fe37",
   "metadata": {},
   "outputs": [],
   "source": [
    "import pandas as pd"
   ]
  },
  {
   "cell_type": "code",
   "execution_count": null,
   "id": "2cc875f5",
   "metadata": {},
   "outputs": [],
   "source": []
  }
 ],
 "metadata": {
  "kernelspec": {
   "display_name": ".venv",
   "language": "python",
   "name": "python3"
  },
  "language_info": {
   "codemirror_mode": {
    "name": "ipython",
    "version": 3
   },
   "file_extension": ".py",
   "mimetype": "text/x-python",
   "name": "python",
   "nbconvert_exporter": "python",
   "pygments_lexer": "ipython3",
   "version": "3.12.3"
  }
 },
 "nbformat": 4,
 "nbformat_minor": 5
}
