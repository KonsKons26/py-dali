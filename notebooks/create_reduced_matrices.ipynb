{
 "cells": [
  {
   "cell_type": "code",
   "execution_count": 1,
   "id": "180c3979",
   "metadata": {},
   "outputs": [
    {
     "name": "stdout",
     "output_type": "stream",
     "text": [
      "/home/cotsios/dsit/2nd-semester/algos-in-mol-bio/py-dali\n"
     ]
    }
   ],
   "source": [
    "import sys\n",
    "import os\n",
    "\n",
    "\n",
    "sys.path.append(os.path.abspath(os.path.join(os.getcwd(), \"..\")))\n",
    "print(sys.path[-1])"
   ]
  },
  {
   "cell_type": "code",
   "execution_count": 2,
   "id": "2efa72fe",
   "metadata": {},
   "outputs": [
    {
     "name": "stdout",
     "output_type": "stream",
     "text": [
      "\u001b[1mBASE_DIR            \u001b[0;0m/home/cotsios/dsit/2nd-semester/algos-in-mol-bio/py-dali\n",
      "\u001b[1mDATA_DIR            \u001b[0;0m/home/cotsios/dsit/2nd-semester/algos-in-mol-bio/py-dali/data\n",
      "\u001b[1mREDUCED_DIR         \u001b[0;0m/home/cotsios/dsit/2nd-semester/algos-in-mol-bio/py-dali/data_reduced\n"
     ]
    }
   ],
   "source": [
    "BASE_DIR = os.path.dirname(os.getcwd())\n",
    "DATA_DIR = os.path.join(BASE_DIR, \"data\")\n",
    "REDUCED_DIR = os.path.join(BASE_DIR, \"data_reduced\")\n",
    "\n",
    "os.makedirs(REDUCED_DIR, exist_ok=True)\n",
    "\n",
    "print(f\"\\033[1m{'BASE_DIR':<20}\\033[0;0m{BASE_DIR}\")\n",
    "print(f\"\\033[1m{'DATA_DIR':<20}\\033[0;0m{DATA_DIR}\")\n",
    "print(f\"\\033[1m{'REDUCED_DIR':<20}\\033[0;0m{REDUCED_DIR}\")"
   ]
  },
  {
   "cell_type": "code",
   "execution_count": 3,
   "id": "20e0b89b",
   "metadata": {},
   "outputs": [],
   "source": [
    "from src.reduction import parallel_reduce"
   ]
  },
  {
   "cell_type": "code",
   "execution_count": 4,
   "id": "dcb8b8ee",
   "metadata": {},
   "outputs": [],
   "source": [
    "k = 6\n",
    "contact_pattern_size = 12\n",
    "contact_pattern_min_size = 6\n",
    "max_contact_patterns = 75\n",
    "threshold = 1\n",
    "C_alpha_only = True"
   ]
  },
  {
   "cell_type": "code",
   "execution_count": null,
   "id": "8dab89df",
   "metadata": {},
   "outputs": [
    {
     "name": "stdout",
     "output_type": "stream",
     "text": [
      "Found 5 queries\n",
      "\n",
      "Processing \u001b[1md1fi6a_\u001b[0;0m in /home/cotsios/dsit/2nd-semester/algos-in-mol-bio/py-dali/data/d1fi6a_\n"
     ]
    },
    {
     "name": "stderr",
     "output_type": "stream",
     "text": [
      "\n",
      "Processing PDB files: 100%|██████████| 1/1 [00:02<00:00,  2.36s/it]\n",
      "Processing PDB files: 100%|██████████| 21/21 [01:27<00:00,  4.15s/it]"
     ]
    },
    {
     "name": "stdout",
     "output_type": "stream",
     "text": [
      "\n",
      "Processing \u001b[1md4bcda1\u001b[0;0m in /home/cotsios/dsit/2nd-semester/algos-in-mol-bio/py-dali/data/d4bcda1\n"
     ]
    },
    {
     "name": "stderr",
     "output_type": "stream",
     "text": [
      "\n",
      "Processing PDB files: 100%|██████████| 1/1 [01:03<00:00, 63.89s/it]\n",
      "Processing PDB files: 100%|██████████| 21/21 [01:41<00:00,  4.82s/it]"
     ]
    },
    {
     "name": "stdout",
     "output_type": "stream",
     "text": [
      "\n",
      "Processing \u001b[1md7dhfa1\u001b[0;0m in /home/cotsios/dsit/2nd-semester/algos-in-mol-bio/py-dali/data/d7dhfa1\n"
     ]
    },
    {
     "name": "stderr",
     "output_type": "stream",
     "text": [
      "\n",
      "Processing PDB files: 100%|██████████| 1/1 [00:06<00:00,  6.23s/it]\n",
      "Processing PDB files: 100%|██████████| 23/23 [01:39<00:00,  4.35s/it]"
     ]
    },
    {
     "name": "stdout",
     "output_type": "stream",
     "text": [
      "\n",
      "Processing \u001b[1md3brma_\u001b[0;0m in /home/cotsios/dsit/2nd-semester/algos-in-mol-bio/py-dali/data/d3brma_\n"
     ]
    },
    {
     "name": "stderr",
     "output_type": "stream",
     "text": [
      "\n",
      "Processing PDB files: 100%|██████████| 1/1 [00:28<00:00, 28.54s/it]\n",
      "Processing PDB files: 100%|██████████| 16/16 [04:01<00:00, 15.09s/it]"
     ]
    },
    {
     "name": "stdout",
     "output_type": "stream",
     "text": [
      "\n",
      "Processing \u001b[1md2gjva1\u001b[0;0m in /home/cotsios/dsit/2nd-semester/algos-in-mol-bio/py-dali/data/d2gjva1\n"
     ]
    },
    {
     "name": "stderr",
     "output_type": "stream",
     "text": [
      "\n",
      "Processing PDB files: 100%|██████████| 1/1 [00:05<00:00,  5.22s/it]\n",
      "Processing PDB files: 100%|██████████| 11/11 [00:38<00:00,  3.49s/it]\n"
     ]
    }
   ],
   "source": [
    "queries = os.listdir(DATA_DIR)\n",
    "queries_paths = [os.path.join(DATA_DIR, query) for query in queries]\n",
    "print(f\"Found {len(queries_paths)} queries\")\n",
    "\n",
    "for query, query_path in zip(queries, queries_paths):\n",
    "    print(f\"\\nProcessing \\033[1m{query}\\033[0;0m in {query_path}\")\n",
    "\n",
    "    references_path = os.path.join(query_path, \"references\")\n",
    "\n",
    "    # Prepare the directories\n",
    "    reduced_query_path = os.path.join(REDUCED_DIR, query)\n",
    "    reduced_query_references_path = os.path.join(\n",
    "        reduced_query_path, \"references\"\n",
    "    )\n",
    "    os.makedirs(reduced_query_path, exist_ok=True)\n",
    "    os.makedirs(reduced_query_references_path, exist_ok=True)\n",
    "\n",
    "    # Reduce the query\n",
    "    results_query, pdb_names_query = parallel_reduce(\n",
    "        pdb_dir=query_path,\n",
    "        save_path=reduced_query_path,\n",
    "        k=k,    \n",
    "        contact_pattern_size=contact_pattern_size,\n",
    "        contact_pattern_min_size=contact_pattern_min_size,\n",
    "        max_contact_patterns=max_contact_patterns,\n",
    "        threshold=threshold,\n",
    "        C_alpha_only=C_alpha_only\n",
    "    )\n",
    "\n",
    "    # Reduce the references\n",
    "    results_references, pdb_names_references = parallel_reduce(\n",
    "        pdb_dir=references_path,\n",
    "        save_path=reduced_query_references_path,\n",
    "        k=k,    \n",
    "        contact_pattern_size=contact_pattern_size,\n",
    "        contact_pattern_min_size=contact_pattern_min_size,\n",
    "        max_contact_patterns=max_contact_patterns,\n",
    "        threshold=threshold,\n",
    "        C_alpha_only=C_alpha_only\n",
    "    )\n"
   ]
  }
 ],
 "metadata": {
  "kernelspec": {
   "display_name": ".venv",
   "language": "python",
   "name": "python3"
  },
  "language_info": {
   "codemirror_mode": {
    "name": "ipython",
    "version": 3
   },
   "file_extension": ".py",
   "mimetype": "text/x-python",
   "name": "python",
   "nbconvert_exporter": "python",
   "pygments_lexer": "ipython3",
   "version": "3.12.3"
  }
 },
 "nbformat": 4,
 "nbformat_minor": 5
}
