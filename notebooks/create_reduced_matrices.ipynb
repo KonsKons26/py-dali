{
 "cells": [
  {
   "cell_type": "code",
   "execution_count": 1,
   "id": "180c3979",
   "metadata": {},
   "outputs": [
    {
     "name": "stdout",
     "output_type": "stream",
     "text": [
      "/home/cotsios/dsit/2nd-semester/algos-in-mol-bio/py-dali\n"
     ]
    }
   ],
   "source": [
    "import sys\n",
    "import os\n",
    "\n",
    "\n",
    "sys.path.append(os.path.abspath(os.path.join(os.getcwd(), \"..\")))\n",
    "print(sys.path[-1])"
   ]
  },
  {
   "cell_type": "code",
   "execution_count": 2,
   "id": "2efa72fe",
   "metadata": {},
   "outputs": [
    {
     "name": "stdout",
     "output_type": "stream",
     "text": [
      "BASE_DIR: /home/cotsios/dsit/2nd-semester/algos-in-mol-bio/py-dali\n",
      "PDBS_DIR: /home/cotsios/dsit/2nd-semester/algos-in-mol-bio/py-dali/pdbs\n",
      "REDUCED_DIRS: /home/cotsios/dsit/2nd-semester/algos-in-mol-bio/py-dali/reduced\n",
      "QUERIES_DIR: /home/cotsios/dsit/2nd-semester/algos-in-mol-bio/py-dali/queries\n"
     ]
    }
   ],
   "source": [
    "BASE_DIR = os.path.dirname(os.getcwd())\n",
    "PDBS_DIR = os.path.join(BASE_DIR, \"pdbs\")\n",
    "REDUCED_DIRS = os.path.join(BASE_DIR, \"reduced\")\n",
    "QUERIES_DIR = os.path.join(BASE_DIR, \"queries\")\n",
    "\n",
    "print(\"BASE_DIR:\", BASE_DIR)\n",
    "print(\"PDBS_DIR:\", PDBS_DIR)\n",
    "print(\"REDUCED_DIRS:\", REDUCED_DIRS)\n",
    "print(\"QUERIES_DIR:\", QUERIES_DIR)"
   ]
  },
  {
   "cell_type": "code",
   "execution_count": 3,
   "id": "20e0b89b",
   "metadata": {},
   "outputs": [],
   "source": [
    "from src.reduction import parallel_reduce"
   ]
  },
  {
   "cell_type": "code",
   "execution_count": 4,
   "id": "dcb8b8ee",
   "metadata": {},
   "outputs": [],
   "source": [
    "k = 6\n",
    "contact_pattern_size = 12\n",
    "contact_pattern_min_size = 6\n",
    "max_contact_patterns = 100\n",
    "threshold = 1\n",
    "C_alpha_only = True"
   ]
  },
  {
   "cell_type": "code",
   "execution_count": 5,
   "id": "823ea135",
   "metadata": {},
   "outputs": [
    {
     "name": "stderr",
     "output_type": "stream",
     "text": [
      "Processing PDB files: 100%|██████████| 99/99 [05:15<00:00,  3.18s/it]\n"
     ]
    }
   ],
   "source": [
    "results, pdb_names = parallel_reduce(\n",
    "    pdb_dir = PDBS_DIR,\n",
    "    save_path = REDUCED_DIRS,\n",
    "    k = k,\n",
    "    contact_pattern_size = contact_pattern_size,\n",
    "    contact_pattern_min_size = contact_pattern_min_size,\n",
    "    max_contact_patterns = max_contact_patterns,\n",
    "    threshold = threshold,\n",
    "    C_alpha_only = C_alpha_only\n",
    ")"
   ]
  }
 ],
 "metadata": {
  "kernelspec": {
   "display_name": ".venv",
   "language": "python",
   "name": "python3"
  },
  "language_info": {
   "codemirror_mode": {
    "name": "ipython",
    "version": 3
   },
   "file_extension": ".py",
   "mimetype": "text/x-python",
   "name": "python",
   "nbconvert_exporter": "python",
   "pygments_lexer": "ipython3",
   "version": "3.12.3"
  }
 },
 "nbformat": 4,
 "nbformat_minor": 5
}
