{
 "cells": [
  {
   "cell_type": "code",
   "execution_count": null,
   "id": "180c3979",
   "metadata": {},
   "outputs": [],
   "source": [
    "import sys\n",
    "import os\n",
    "\n",
    "\n",
    "sys.path.append(os.path.abspath(os.path.join(os.getcwd(), \"..\")))\n",
    "print(sys.path[-1])"
   ]
  },
  {
   "cell_type": "code",
   "execution_count": null,
   "id": "2efa72fe",
   "metadata": {},
   "outputs": [],
   "source": [
    "BASE_DIR = os.path.dirname(os.getcwd())\n",
    "DATA_DIR = os.path.join(BASE_DIR, \"data\")\n",
    "DB_DIR = os.path.join(DATA_DIR, \"db\")\n",
    "REDUCED_DIR = os.path.join(DATA_DIR, \"reduced\")\n",
    "\n",
    "os.makedirs(REDUCED_DIR, exist_ok=True)\n",
    "\n",
    "print(f\"{'BASE_DIR':<15}{BASE_DIR}\")\n",
    "print(f\"{'DATA_DIR':<15}{DATA_DIR}\")\n",
    "print(f\"{'DB_DIR':<15}{DB_DIR}\")\n",
    "print(f\"{'REDUCED_DIR':<15}{REDUCED_DIR}\")"
   ]
  },
  {
   "cell_type": "code",
   "execution_count": null,
   "id": "20e0b89b",
   "metadata": {},
   "outputs": [],
   "source": [
    "from src.reduction import parallel_reduce"
   ]
  },
  {
   "cell_type": "code",
   "execution_count": null,
   "id": "dcb8b8ee",
   "metadata": {},
   "outputs": [],
   "source": [
    "k = 6\n",
    "contact_pattern_size = 12\n",
    "contact_pattern_min_size = 6\n",
    "max_contact_patterns = 75\n",
    "threshold = 1\n",
    "C_alpha_only = True"
   ]
  },
  {
   "cell_type": "code",
   "execution_count": null,
   "id": "823ea135",
   "metadata": {},
   "outputs": [],
   "source": [
    "results, pdb_names = parallel_reduce(\n",
    "    pdb_dir = DB_DIR,\n",
    "    save_path = REDUCED_DIR,\n",
    "    k = k,\n",
    "    contact_pattern_size = contact_pattern_size,\n",
    "    contact_pattern_min_size = contact_pattern_min_size,\n",
    "    max_contact_patterns = max_contact_patterns,\n",
    "    threshold = threshold,\n",
    "    C_alpha_only = C_alpha_only\n",
    ")"
   ]
  }
 ],
 "metadata": {
  "kernelspec": {
   "display_name": ".venv",
   "language": "python",
   "name": "python3"
  },
  "language_info": {
   "codemirror_mode": {
    "name": "ipython",
    "version": 3
   },
   "file_extension": ".py",
   "mimetype": "text/x-python",
   "name": "python",
   "nbconvert_exporter": "python",
   "pygments_lexer": "ipython3",
   "version": "3.12.3"
  }
 },
 "nbformat": 4,
 "nbformat_minor": 5
}
