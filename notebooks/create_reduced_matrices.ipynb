{
 "cells": [
  {
   "cell_type": "code",
   "execution_count": 1,
   "id": "180c3979",
   "metadata": {},
   "outputs": [
    {
     "name": "stdout",
     "output_type": "stream",
     "text": [
      "/home/cotsios/dsit/2nd-semester/algos-in-mol-bio/py-dali\n"
     ]
    }
   ],
   "source": [
    "import sys\n",
    "import os\n",
    "\n",
    "\n",
    "sys.path.append(os.path.abspath(os.path.join(os.getcwd(), \"..\")))\n",
    "print(sys.path[-1])"
   ]
  },
  {
   "cell_type": "code",
   "execution_count": 2,
   "id": "2efa72fe",
   "metadata": {},
   "outputs": [
    {
     "name": "stdout",
     "output_type": "stream",
     "text": [
      "BASE_DIR: /home/cotsios/dsit/2nd-semester/algos-in-mol-bio/py-dali\n",
      "PDBS_DIR: /home/cotsios/dsit/2nd-semester/algos-in-mol-bio/py-dali/pdbs\n",
      "REDUCED_DIRS: /home/cotsios/dsit/2nd-semester/algos-in-mol-bio/py-dali/reduced\n",
      "QUERIES_DIR: /home/cotsios/dsit/2nd-semester/algos-in-mol-bio/py-dali/queries\n"
     ]
    }
   ],
   "source": [
    "BASE_DIR = os.path.dirname(os.getcwd())\n",
    "PDBS_DIR = os.path.join(BASE_DIR, \"pdbs\")\n",
    "REDUCED_DIRS = os.path.join(BASE_DIR, \"reduced\")\n",
    "QUERIES_DIR = os.path.join(BASE_DIR, \"queries\")\n",
    "\n",
    "print(\"BASE_DIR:\", BASE_DIR)\n",
    "print(\"PDBS_DIR:\", PDBS_DIR)\n",
    "print(\"REDUCED_DIRS:\", REDUCED_DIRS)\n",
    "print(\"QUERIES_DIR:\", QUERIES_DIR)"
   ]
  },
  {
   "cell_type": "code",
   "execution_count": 3,
   "id": "20e0b89b",
   "metadata": {},
   "outputs": [],
   "source": [
    "from tqdm import tqdm\n",
    "from src.utils import (\n",
    "    get_db_pdb_paths_and_names, get_coords, pairwise_dist, quick_save\n",
    ")\n",
    "from src.reduction import reduce_distance_matrix"
   ]
  },
  {
   "cell_type": "code",
   "execution_count": 4,
   "id": "dcb8b8ee",
   "metadata": {},
   "outputs": [],
   "source": [
    "k = 6\n",
    "contact_pattern_size = 12\n",
    "contact_pattern_min_size = 6\n",
    "max_contact_patterns = 100\n",
    "threshold = 1"
   ]
  },
  {
   "cell_type": "code",
   "execution_count": 5,
   "id": "badc8766",
   "metadata": {},
   "outputs": [],
   "source": [
    "pdb_files, pdb_names = get_db_pdb_paths_and_names(PDBS_DIR)"
   ]
  },
  {
   "cell_type": "code",
   "execution_count": 6,
   "id": "898f5bac",
   "metadata": {},
   "outputs": [
    {
     "name": "stderr",
     "output_type": "stream",
     "text": [
      "Processing 9jaq_B: 100%|██████████| 99/99 [36:40<00:00, 22.23s/it]\n"
     ]
    }
   ],
   "source": [
    "with tqdm(zip(pdb_files, pdb_names), total=len(pdb_files)) as pbar:\n",
    "    for pdb_file, pdb_name in pbar:\n",
    "        pbar.set_description(f\"Processing {pdb_name}\")\n",
    "\n",
    "        coords = get_coords(pdb_file, pdb_name, Calpha_only=True)\n",
    "        distance_matrix = pairwise_dist(coords)\n",
    "\n",
    "        reduced = reduce_distance_matrix(\n",
    "            arr=distance_matrix,\n",
    "            k=k,\n",
    "            start=k,\n",
    "            overlap_contact_patterns=False,\n",
    "            contact_pattern_max_size=contact_pattern_size,\n",
    "            contact_pattern_min_size=contact_pattern_min_size,\n",
    "            threshold=threshold,\n",
    "            max_contact_patterns=max_contact_patterns\n",
    "        )\n",
    "\n",
    "        quick_save(\n",
    "            data=reduced,\n",
    "            filename=os.path.join(\n",
    "                REDUCED_DIRS, f\"{pdb_name}.pkl.gz\"\n",
    "            )\n",
    "        )\n"
   ]
  }
 ],
 "metadata": {
  "kernelspec": {
   "display_name": ".venv",
   "language": "python",
   "name": "python3"
  },
  "language_info": {
   "codemirror_mode": {
    "name": "ipython",
    "version": 3
   },
   "file_extension": ".py",
   "mimetype": "text/x-python",
   "name": "python",
   "nbconvert_exporter": "python",
   "pygments_lexer": "ipython3",
   "version": "3.12.3"
  }
 },
 "nbformat": 4,
 "nbformat_minor": 5
}
