{
 "cells": [
  {
   "cell_type": "code",
   "execution_count": 1,
   "id": "180c3979",
   "metadata": {},
   "outputs": [
    {
     "name": "stdout",
     "output_type": "stream",
     "text": [
      "/home/cotsios/dsit/2nd-semester/algos-in-mol-bio/py-dali\n"
     ]
    }
   ],
   "source": [
    "import sys\n",
    "import os\n",
    "\n",
    "\n",
    "sys.path.append(os.path.abspath(os.path.join(os.getcwd(), \"..\")))\n",
    "print(sys.path[-1])"
   ]
  },
  {
   "cell_type": "code",
   "execution_count": 2,
   "id": "2efa72fe",
   "metadata": {},
   "outputs": [
    {
     "name": "stdout",
     "output_type": "stream",
     "text": [
      "\u001b[1mBASE_DIR            \u001b[0;0m/home/cotsios/dsit/2nd-semester/algos-in-mol-bio/py-dali\n",
      "\u001b[1mDATA_DIR            \u001b[0;0m/home/cotsios/dsit/2nd-semester/algos-in-mol-bio/py-dali/data\n",
      "\u001b[1mREDUCED_DIR         \u001b[0;0m/home/cotsios/dsit/2nd-semester/algos-in-mol-bio/py-dali/data_reduced\n"
     ]
    }
   ],
   "source": [
    "BASE_DIR = os.path.dirname(os.getcwd())\n",
    "DATA_DIR = os.path.join(BASE_DIR, \"data\")\n",
    "REDUCED_DIR = os.path.join(BASE_DIR, \"data_reduced\")\n",
    "\n",
    "os.makedirs(REDUCED_DIR, exist_ok=True)\n",
    "\n",
    "print(f\"\\033[1m{'BASE_DIR':<20}\\033[0;0m{BASE_DIR}\")\n",
    "print(f\"\\033[1m{'DATA_DIR':<20}\\033[0;0m{DATA_DIR}\")\n",
    "print(f\"\\033[1m{'REDUCED_DIR':<20}\\033[0;0m{REDUCED_DIR}\")"
   ]
  },
  {
   "cell_type": "code",
   "execution_count": 3,
   "id": "20e0b89b",
   "metadata": {},
   "outputs": [],
   "source": [
    "from src.reduction import parallel_reduce"
   ]
  },
  {
   "cell_type": "code",
   "execution_count": 4,
   "id": "dcb8b8ee",
   "metadata": {},
   "outputs": [],
   "source": [
    "k = 6\n",
    "contact_pattern_size = 12\n",
    "contact_pattern_min_size = 6\n",
    "max_contact_patterns = 150\n",
    "threshold = 1\n",
    "C_alpha_only = True"
   ]
  },
  {
   "cell_type": "code",
   "execution_count": 5,
   "id": "8dab89df",
   "metadata": {},
   "outputs": [
    {
     "name": "stdout",
     "output_type": "stream",
     "text": [
      "Found 5 queries\n",
      "\n",
      "Processing \u001b[1md6pzna1\u001b[0;0m in /home/cotsios/dsit/2nd-semester/algos-in-mol-bio/py-dali/data/d6pzna1\n"
     ]
    },
    {
     "name": "stderr",
     "output_type": "stream",
     "text": [
      "Processing PDB files: 100%|██████████| 1/1 [00:19<00:00, 19.05s/it]\n",
      "Processing PDB files: 100%|██████████| 100/100 [03:25<00:00,  2.06s/it]"
     ]
    },
    {
     "name": "stdout",
     "output_type": "stream",
     "text": [
      "\n",
      "Processing \u001b[1md1j1va_\u001b[0;0m in /home/cotsios/dsit/2nd-semester/algos-in-mol-bio/py-dali/data/d1j1va_\n"
     ]
    },
    {
     "name": "stderr",
     "output_type": "stream",
     "text": [
      "\n",
      "Processing PDB files: 100%|██████████| 1/1 [00:02<00:00,  2.40s/it]\n",
      "Processing PDB files: 100%|██████████| 78/78 [04:19<00:00,  3.33s/it]"
     ]
    },
    {
     "name": "stdout",
     "output_type": "stream",
     "text": [
      "\n",
      "Processing \u001b[1md3jbra3\u001b[0;0m in /home/cotsios/dsit/2nd-semester/algos-in-mol-bio/py-dali/data/d3jbra3\n"
     ]
    },
    {
     "name": "stderr",
     "output_type": "stream",
     "text": [
      "\n",
      "Processing PDB files: 100%|██████████| 1/1 [00:23<00:00, 23.90s/it]\n",
      "Processing PDB files: 100%|██████████| 63/63 [26:16<00:00, 25.03s/it] "
     ]
    },
    {
     "name": "stdout",
     "output_type": "stream",
     "text": [
      "\n",
      "Processing \u001b[1md1ijqa2\u001b[0;0m in /home/cotsios/dsit/2nd-semester/algos-in-mol-bio/py-dali/data/d1ijqa2\n"
     ]
    },
    {
     "name": "stderr",
     "output_type": "stream",
     "text": [
      "\n",
      "Processing PDB files: 100%|██████████| 1/1 [00:00<00:00,  2.08it/s]\n",
      "Processing PDB files: 100%|██████████| 111/111 [02:00<00:00,  1.09s/it]"
     ]
    },
    {
     "name": "stdout",
     "output_type": "stream",
     "text": [
      "\n",
      "Processing \u001b[1md3jcla3\u001b[0;0m in /home/cotsios/dsit/2nd-semester/algos-in-mol-bio/py-dali/data/d3jcla3\n"
     ]
    },
    {
     "name": "stderr",
     "output_type": "stream",
     "text": [
      "\n",
      "Processing PDB files: 100%|██████████| 1/1 [08:04<00:00, 484.66s/it]\n",
      "Processing PDB files: 100%|██████████| 50/50 [22:19<00:00, 26.80s/it] \n"
     ]
    }
   ],
   "source": [
    "queries = os.listdir(DATA_DIR)\n",
    "queries_paths = [os.path.join(DATA_DIR, query) for query in queries]\n",
    "print(f\"Found {len(queries_paths)} queries\")\n",
    "\n",
    "for query, query_path in zip(queries, queries_paths):\n",
    "    print(f\"\\nProcessing \\033[1m{query}\\033[0;0m in {query_path}\")\n",
    "\n",
    "    references_path = os.path.join(query_path, \"references\")\n",
    "\n",
    "    # Prepare the directories\n",
    "    reduced_query_path = os.path.join(REDUCED_DIR, query)\n",
    "    reduced_query_references_path = os.path.join(\n",
    "        reduced_query_path, \"references\"\n",
    "    )\n",
    "    os.makedirs(reduced_query_path, exist_ok=True)\n",
    "    os.makedirs(reduced_query_references_path, exist_ok=True)\n",
    "\n",
    "    # Reduce the query\n",
    "    results_query, pdb_names_query = parallel_reduce(\n",
    "        pdb_dir=query_path,\n",
    "        save_path=reduced_query_path,\n",
    "        k=k,    \n",
    "        contact_pattern_size=contact_pattern_size,\n",
    "        contact_pattern_min_size=contact_pattern_min_size,\n",
    "        max_contact_patterns=max_contact_patterns,\n",
    "        threshold=threshold,\n",
    "        C_alpha_only=C_alpha_only\n",
    "    )\n",
    "\n",
    "    # Reduce the references\n",
    "    results_references, pdb_names_references = parallel_reduce(\n",
    "        pdb_dir=references_path,\n",
    "        save_path=reduced_query_references_path,\n",
    "        k=k,    \n",
    "        contact_pattern_size=contact_pattern_size,\n",
    "        contact_pattern_min_size=contact_pattern_min_size,\n",
    "        max_contact_patterns=max_contact_patterns,\n",
    "        threshold=threshold,\n",
    "        C_alpha_only=C_alpha_only\n",
    "    )\n"
   ]
  }
 ],
 "metadata": {
  "kernelspec": {
   "display_name": ".venv",
   "language": "python",
   "name": "python3"
  },
  "language_info": {
   "codemirror_mode": {
    "name": "ipython",
    "version": 3
   },
   "file_extension": ".py",
   "mimetype": "text/x-python",
   "name": "python",
   "nbconvert_exporter": "python",
   "pygments_lexer": "ipython3",
   "version": "3.12.3"
  }
 },
 "nbformat": 4,
 "nbformat_minor": 5
}
