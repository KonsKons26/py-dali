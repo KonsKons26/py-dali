{
 "cells": [
  {
   "cell_type": "code",
   "execution_count": 1,
   "id": "45e3202b",
   "metadata": {},
   "outputs": [
    {
     "name": "stdout",
     "output_type": "stream",
     "text": [
      "/home/cotsios/dsit/2nd-semester/algos-in-mol-bio/py-dali\n"
     ]
    }
   ],
   "source": [
    "import sys\n",
    "import os\n",
    "\n",
    "\n",
    "sys.path.append(os.path.abspath(os.path.join(os.getcwd(), \"..\")))\n",
    "print(sys.path[-1])"
   ]
  },
  {
   "cell_type": "code",
   "execution_count": 2,
   "id": "39be6cd5",
   "metadata": {},
   "outputs": [
    {
     "name": "stdout",
     "output_type": "stream",
     "text": [
      "BASE_DIR            /home/cotsios/dsit/2nd-semester/algos-in-mol-bio/py-dali\n",
      "META_DIR            /home/cotsios/dsit/2nd-semester/algos-in-mol-bio/py-dali/meta\n",
      "META_QUERIES_DIR    /home/cotsios/dsit/2nd-semester/algos-in-mol-bio/py-dali/meta/queries\n",
      "DATA_DIR            /home/cotsios/dsit/2nd-semester/algos-in-mol-bio/py-dali/data\n",
      "DATA_REDUCED_DIR    /home/cotsios/dsit/2nd-semester/algos-in-mol-bio/py-dali/data_reduced\n",
      "RESULTS_DIR         /home/cotsios/dsit/2nd-semester/algos-in-mol-bio/py-dali/results\n",
      "IMGS_DIR            /home/cotsios/dsit/2nd-semester/algos-in-mol-bio/py-dali/imgs\n"
     ]
    }
   ],
   "source": [
    "BASE_DIR = os.path.dirname(os.getcwd())\n",
    "META_DIR = os.path.join(BASE_DIR, \"meta\")\n",
    "META_QUERIES_DIR = os.path.join(META_DIR, \"queries\")\n",
    "DATA_DIR = os.path.join(BASE_DIR, \"data\")\n",
    "DATA_REDUCED_DIR = os.path.join(BASE_DIR, \"data_reduced\")\n",
    "RESULTS_DIR = os.path.join(BASE_DIR, \"results\")\n",
    "IMGS_DIR = os.path.join(BASE_DIR, \"imgs\")\n",
    "\n",
    "os.makedirs(RESULTS_DIR, exist_ok=True)\n",
    "os.makedirs(IMGS_DIR, exist_ok=True)\n",
    "\n",
    "print(f\"{'BASE_DIR':<20}{BASE_DIR}\")\n",
    "print(f\"{'META_DIR':<20}{META_DIR}\")\n",
    "print(f\"{'META_QUERIES_DIR':<20}{META_QUERIES_DIR}\")\n",
    "print(f\"{'DATA_DIR':<20}{DATA_DIR}\")\n",
    "print(f\"{'DATA_REDUCED_DIR':<20}{DATA_REDUCED_DIR}\")\n",
    "print(f\"{'RESULTS_DIR':<20}{RESULTS_DIR}\")\n",
    "print(f\"{'IMGS_DIR':<20}{IMGS_DIR}\")"
   ]
  },
  {
   "cell_type": "code",
   "execution_count": 3,
   "id": "0312e6a5",
   "metadata": {},
   "outputs": [],
   "source": [
    "import pandas as pd\n",
    "from tqdm import tqdm\n",
    "\n",
    "from src.utils import get_coords, quick_load, calculate_best_rmsd\n",
    "from src.monte_carlo import MonteCarloAligner"
   ]
  },
  {
   "cell_type": "code",
   "execution_count": 4,
   "id": "df82bffe",
   "metadata": {},
   "outputs": [],
   "source": [
    "QUERIES = os.listdir(META_QUERIES_DIR)\n",
    "QUERIES_PATHS = [os.path.join(META_QUERIES_DIR, query) for query in QUERIES]"
   ]
  },
  {
   "cell_type": "code",
   "execution_count": 5,
   "id": "02ca9f1b",
   "metadata": {},
   "outputs": [],
   "source": [
    "ITERATION_LIMIT_ = 10_000\n",
    "# BETAS_MODE = \"U\"\n",
    "# BETAS_RANGE = (\n",
    "#     0.01,   # min_beta\n",
    "#     10.0,   # start_beta\n",
    "#     100.0,  # end_beta\n",
    "#     0.25,   # min_beta_position\n",
    "# )\n",
    "BETAS_MODE_ = \"exponential\"\n",
    "BETAS_RANGE_ = [1.0, 100.0]\n",
    "REHEAT_ = True"
   ]
  },
  {
   "cell_type": "code",
   "execution_count": 6,
   "id": "e17e6c57",
   "metadata": {},
   "outputs": [
    {
     "name": "stdout",
     "output_type": "stream",
     "text": [
      "Query:              /home/cotsios/dsit/2nd-semester/algos-in-mol-bio/py-dali/meta/queries/d7dhfa1.csv\n"
     ]
    },
    {
     "name": "stderr",
     "output_type": "stream",
     "text": [
      "Processing d7dhfa1: 100%|██████████| 24/24 [06:14<00:00, 15.61s/comparison]\n"
     ]
    },
    {
     "name": "stdout",
     "output_type": "stream",
     "text": [
      "Query:              /home/cotsios/dsit/2nd-semester/algos-in-mol-bio/py-dali/meta/queries/d4bcda1.csv\n"
     ]
    },
    {
     "name": "stderr",
     "output_type": "stream",
     "text": [
      "Processing d4bcda1: 100%|██████████| 22/22 [05:42<00:00, 15.56s/comparison]\n"
     ]
    },
    {
     "name": "stdout",
     "output_type": "stream",
     "text": [
      "Query:              /home/cotsios/dsit/2nd-semester/algos-in-mol-bio/py-dali/meta/queries/d1fi6a_.csv\n"
     ]
    },
    {
     "name": "stderr",
     "output_type": "stream",
     "text": [
      "Processing d1fi6a_: 100%|██████████| 22/22 [02:09<00:00,  5.90s/comparison]\n"
     ]
    },
    {
     "name": "stdout",
     "output_type": "stream",
     "text": [
      "Query:              /home/cotsios/dsit/2nd-semester/algos-in-mol-bio/py-dali/meta/queries/d2gjva1.csv\n"
     ]
    },
    {
     "name": "stderr",
     "output_type": "stream",
     "text": [
      "Processing d2gjva1: 100%|██████████| 12/12 [02:24<00:00, 12.01s/comparison]\n"
     ]
    },
    {
     "name": "stdout",
     "output_type": "stream",
     "text": [
      "Query:              /home/cotsios/dsit/2nd-semester/algos-in-mol-bio/py-dali/meta/queries/d3brma_.csv\n"
     ]
    },
    {
     "name": "stderr",
     "output_type": "stream",
     "text": [
      "Processing d3brma_: 100%|██████████| 17/17 [04:52<00:00, 17.19s/comparison]\n"
     ]
    }
   ],
   "source": [
    "dfs = {}\n",
    "for query, query_path in zip(QUERIES, QUERIES_PATHS):\n",
    "    query = query.replace(\".csv\", \"\")\n",
    "    print(f\"{'Query:':<20}{query_path}\")\n",
    "\n",
    "    df = pd.read_csv(query_path, index_col=None)\n",
    "    df = df[[\"domain_id\", \"class\", \"fold\", \"superfamily\", \"family\"]]\n",
    "\n",
    "    rmsds = []\n",
    "    mca_score = []\n",
    "    query_pdb = os.path.join(\n",
    "        DATA_DIR, query, f\"{query}.pdb\"\n",
    "    )\n",
    "    query_reduced = os.path.join(\n",
    "        DATA_REDUCED_DIR, query, f\"{query}.pkl.gz\"\n",
    "    )\n",
    "\n",
    "    query_coords = get_coords(query_pdb, \"Q\")\n",
    "    query_reduced_mat = quick_load(query_reduced)\n",
    "\n",
    "    for i, row in tqdm(\n",
    "        df.iterrows(),\n",
    "        total=len(df),\n",
    "        desc=f\"Processing {query}\",\n",
    "        unit=\"comparison\",\n",
    "    ):\n",
    "        if i == 0:\n",
    "            # Comparison with self, used as baseline - query vs query\n",
    "            ref_id = query\n",
    "            ref_pdb = query_pdb\n",
    "            ref_reduced = query_reduced\n",
    "            iteration_limit = 1_000\n",
    "            betas_mode = \"exponential\"\n",
    "            betas_range = [50, 100]\n",
    "            reheat = True\n",
    "        else:\n",
    "            ref_id = row[\"domain_id\"]\n",
    "            ref_pdb = os.path.join(\n",
    "                \"/\".join(query_pdb.split(\"/\")[:-1]),\n",
    "                \"references\",\n",
    "                f\"{ref_id}.pdb\"\n",
    "            )\n",
    "            ref_reduced = os.path.join(\n",
    "                \"/\".join(query_reduced.split(\"/\")[:-1]),\n",
    "                \"references\",\n",
    "                f\"{ref_id}.pkl.gz\"\n",
    "            )\n",
    "            iteration_limit = ITERATION_LIMIT_\n",
    "            betas_mode = BETAS_MODE_\n",
    "            betas_range = BETAS_RANGE_\n",
    "            reheat = REHEAT_\n",
    "\n",
    "        # RMSD calculation\n",
    "        ref_coords = get_coords(ref_pdb, \"R\")\n",
    "        rmsd, n = calculate_best_rmsd(query_coords, ref_coords)\n",
    "        rmsds.append((rmsd, n))\n",
    "\n",
    "        # Monte Carlo Alignment\n",
    "        img_path = os.path.join(IMGS_DIR, query)\n",
    "        os.makedirs(img_path, exist_ok=True)\n",
    "        ref_reduced_mat = quick_load(ref_reduced)\n",
    "        algn = MonteCarloAligner(\n",
    "            query_reduced_mat, ref_reduced_mat,\n",
    "            iteration_limit=iteration_limit,\n",
    "            betas_mode=betas_mode,\n",
    "            betas_range=betas_range,\n",
    "            reheat=reheat,\n",
    "        )\n",
    "        _, score, _ = algn.run_simulation()\n",
    "        algn.plot_convergence(\n",
    "            title=f\"Monte Carlo Alignment Convergence for {ref_id}\",\n",
    "            show=False,\n",
    "            filename=os.path.join(img_path, f\"{ref_id}.png\")\n",
    "        )\n",
    "        mca_score.append(score)\n",
    "\n",
    "    df[\"rmsd\"] = rmsds\n",
    "    df[\"mca_score\"] = mca_score\n",
    "    dfs[query] = df"
   ]
  },
  {
   "cell_type": "code",
   "execution_count": 7,
   "id": "f1cc888d",
   "metadata": {},
   "outputs": [
    {
     "name": "stdout",
     "output_type": "stream",
     "text": [
      "Saved results for d7dhfa1 to /home/cotsios/dsit/2nd-semester/algos-in-mol-bio/py-dali/results\n",
      "Saved results for d4bcda1 to /home/cotsios/dsit/2nd-semester/algos-in-mol-bio/py-dali/results\n",
      "Saved results for d1fi6a_ to /home/cotsios/dsit/2nd-semester/algos-in-mol-bio/py-dali/results\n",
      "Saved results for d2gjva1 to /home/cotsios/dsit/2nd-semester/algos-in-mol-bio/py-dali/results\n",
      "Saved results for d3brma_ to /home/cotsios/dsit/2nd-semester/algos-in-mol-bio/py-dali/results\n"
     ]
    }
   ],
   "source": [
    "for query, df in dfs.items():\n",
    "    df.to_csv(\n",
    "        os.path.join(RESULTS_DIR, f\"{query}.csv\"),\n",
    "        index=False\n",
    "    )\n",
    "    print(f\"Saved results for {query} to {RESULTS_DIR}\")"
   ]
  }
 ],
 "metadata": {
  "kernelspec": {
   "display_name": ".venv",
   "language": "python",
   "name": "python3"
  },
  "language_info": {
   "codemirror_mode": {
    "name": "ipython",
    "version": 3
   },
   "file_extension": ".py",
   "mimetype": "text/x-python",
   "name": "python",
   "nbconvert_exporter": "python",
   "pygments_lexer": "ipython3",
   "version": "3.12.3"
  }
 },
 "nbformat": 4,
 "nbformat_minor": 5
}
